{
 "cells": [
  {
   "cell_type": "code",
   "execution_count": 3,
   "id": "cebbc33e",
   "metadata": {},
   "outputs": [
    {
     "data": {
      "text/plain": [
       "[2,\n",
       " 3,\n",
       " 5,\n",
       " 7,\n",
       " 11,\n",
       " 13,\n",
       " 17,\n",
       " 19,\n",
       " 23,\n",
       " 29,\n",
       " 31,\n",
       " 37,\n",
       " 41,\n",
       " 43,\n",
       " 47,\n",
       " 53,\n",
       " 59,\n",
       " 61,\n",
       " 67,\n",
       " 71,\n",
       " 73,\n",
       " 79,\n",
       " 83,\n",
       " 89,\n",
       " 97]"
      ]
     },
     "execution_count": 3,
     "metadata": {},
     "output_type": "execute_result"
    }
   ],
   "source": [
    "#designed limit of 100 max\n",
    "limit = 100\n",
    "\n",
    "#start list\n",
    "prime = []\n",
    "\n",
    "#start at 2 to limit of 100 max\n",
    "for numbers in range(2, limit + 1):\n",
    "\n",
    "#assume number is prime\n",
    "    prime_facts = True\n",
    "    #start new loop for number to be divided by other nums\n",
    "    for divison in range(2, numbers):\n",
    "    #if it can be divided, it is considered not prime\n",
    "        if numbers % divison == 0:\n",
    "            prime_facts = False\n",
    "            break\n",
    "    #if number is still considered prime, it will append the previously initialized list. Adding it on.\n",
    "    if prime_facts:\n",
    "        prime.append(numbers)\n",
    "#print result\n",
    "prime"
   ]
  },
  {
   "cell_type": "code",
   "execution_count": 2,
   "id": "8aacf8c8",
   "metadata": {},
   "outputs": [
    {
     "name": "stdout",
     "output_type": "stream",
     "text": [
      "Enter number of desired rows for Triangle: 4\n",
      "     1 \n",
      "    1 1 \n",
      "   1 2 1 \n",
      "  1 3 3 1 \n"
     ]
    }
   ],
   "source": [
    "#import factorial function\n",
    "\n",
    "from math import factorial\n",
    "\n",
    "#user integer input for number of desired rows\n",
    "\n",
    "n = int(input(\"Enter number of desired rows for Triangle: \"))\n",
    "\n",
    "#loop for each row of triangle\n",
    "for i in range(n):\n",
    "    #make spaces between #s\n",
    "    for j in range(n-i+1):\n",
    "        #keep triangle shape\n",
    "        print(\" \", end=\"\")\n",
    "    \n",
    "    for j in range(i+1):\n",
    "        #nCr formula for Pascal Triangle\n",
    "        print(factorial(i)//(factorial(i-j)*factorial(j)), end=\" \")\n",
    "        \n",
    "    #print result\n",
    "    print()"
   ]
  },
  {
   "cell_type": "code",
   "execution_count": null,
   "id": "fa6cac1f",
   "metadata": {},
   "outputs": [],
   "source": []
  },
  {
   "cell_type": "code",
   "execution_count": null,
   "id": "397f6bd0",
   "metadata": {},
   "outputs": [],
   "source": []
  }
 ],
 "metadata": {
  "kernelspec": {
   "display_name": "Python 3 (ipykernel)",
   "language": "python",
   "name": "python3"
  },
  "language_info": {
   "codemirror_mode": {
    "name": "ipython",
    "version": 3
   },
   "file_extension": ".py",
   "mimetype": "text/x-python",
   "name": "python",
   "nbconvert_exporter": "python",
   "pygments_lexer": "ipython3",
   "version": "3.11.5"
  }
 },
 "nbformat": 4,
 "nbformat_minor": 5
}
